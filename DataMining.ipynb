{
 "cells": [
  {
   "cell_type": "code",
   "execution_count": null,
   "metadata": {
    "colab": {
     "base_uri": "https://localhost:8080/"
    },
    "executionInfo": {
     "elapsed": 80993,
     "status": "ok",
     "timestamp": 1733660279822,
     "user": {
      "displayName": "Hasan Talha GÜZELLER",
      "userId": "13149957230743921739"
     },
     "user_tz": -180
    },
    "id": "a_g-mVUYKpPh",
    "outputId": "469455d4-0e35-4126-ccd7-be6af28b8ec9"
   },
   "outputs": [
    {
     "name": "stdout",
     "output_type": "stream",
     "text": [
      "Drive already mounted at /content/drive; to attempt to forcibly remount, call drive.mount(\"/content/drive\", force_remount=True).\n",
      "Dataset URL: https://www.kaggle.com/datasets/sobhanmoosavi/us-accidents\n",
      "License(s): CC-BY-NC-SA-4.0\n",
      "Downloading us-accidents.zip to /content/dataset\n",
      "100% 652M/653M [00:07<00:00, 140MB/s]\n",
      "100% 653M/653M [00:07<00:00, 90.7MB/s]\n",
      "Dataset taşındı: /content/drive/MyDrive/Salih/dataset\n"
     ]
    }
   ],
   "source": [
    "# Google Drive bağlantısı\n",
    "from google.colab import drive\n",
    "drive.mount('/content/drive')\n",
    "\n",
    "\n",
    "# Kaggle'dan veri setini indirme\n",
    "!kaggle datasets download -d sobhanmoosavi/us-accidents -p /content/dataset --unzip\n",
    "\n",
    "# Veri setini belirtilen konuma taşıma\n",
    "import shutil\n",
    "destination_path = \"/content/drive/MyDrive/Salih\"\n",
    "shutil.move('/content/dataset', destination_path)\n",
    "\n",
    "print(f\"Dataset taşındı: {destination_path}\")\n"
   ]
  },
  {
   "cell_type": "code",
   "execution_count": 3,
   "metadata": {
    "executionInfo": {
     "elapsed": 3880,
     "status": "ok",
     "timestamp": 1733662885906,
     "user": {
      "displayName": "Hasan Talha GÜZELLER",
      "userId": "13149957230743921739"
     },
     "user_tz": -180
    },
    "id": "CxTROEjFNrrw"
   },
   "outputs": [],
   "source": [
    "# İngilizce: Importing necessary libraries for data analysis and visualization\n",
    "# Türkçe: Veri analizi ve görselleştirme için gerekli kütüphanelerin yüklenmesi\n",
    "\n",
    "import pandas as pd  # İngilizce: Data manipulation and analysis\n",
    "                     # Türkçe: Veri manipülasyonu ve analizi\n",
    "\n",
    "import numpy as np   # İngilizce: Numerical operations\n",
    "                     # Türkçe: Sayısal işlemler\n",
    "\n",
    "import matplotlib.pyplot as plt  # İngilizce: Plotting graphs\n",
    "                                 # Türkçe: Grafik çizimi\n",
    "\n",
    "import seaborn as sns  # İngilizce: Statistical data visualization\n",
    "                       # Türkçe: İstatistiksel veri görselleştirme\n",
    "\n",
    "import plotly.express as px  # İngilizce: Interactive plots\n",
    "                             # Türkçe: Etkileşimli grafikler\n",
    "\n",
    "import geopandas as gpd  # İngilizce: Geospatial data analysis\n",
    "                         # Türkçe: Coğrafi veri analizi\n"
   ]
  },
  {
   "cell_type": "code",
   "execution_count": null,
   "metadata": {
    "id": "la_TZPwtTrbh"
   },
   "outputs": [],
   "source": [
    "# İngilizce: Loading the dataset\n",
    "# Türkçe: Veri setinin yüklenmesi\n",
    "\n",
    "file_path = '/content/drive/MyDrive/Salih/dataset/US_Accidents_March23.csv'  # İngilizce: Replace with your dataset's path\n",
    "                                        # Türkçe: Veri setinizin yoluyla değiştirin\n",
    "\n",
    "df = pd.read_csv(file_path)  # İngilizce: Reading the CSV file into a DataFrame\n",
    "                             # Türkçe: CSV dosyasını DataFrame'e okuma\n",
    "\n",
    "\n"
   ]
  }
 ],
 "metadata": {
  "colab": {
   "authorship_tag": "ABX9TyOZHda2qwZ2wCYVUPMMWcm4",
   "mount_file_id": "1uj3eN2vIUVKInQn1stIGZdp3OsHte3MA",
   "provenance": []
  },
  "kernelspec": {
   "display_name": "Python 3",
   "name": "python3"
  },
  "language_info": {
   "name": "python"
  }
 },
 "nbformat": 4,
 "nbformat_minor": 0
}
